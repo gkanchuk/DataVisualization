{
 "cells": [
  {
   "cell_type": "code",
   "execution_count": 1,
   "metadata": {},
   "outputs": [],
   "source": [
    "import pandas as pd"
   ]
  },
  {
   "cell_type": "code",
   "execution_count": 2,
   "metadata": {},
   "outputs": [
    {
     "name": "stdout",
     "output_type": "stream",
     "text": [
      "AK\n",
      "AZ\n",
      "CA\n",
      "CO\n",
      "PA\n",
      "NC\n",
      "SC\n",
      "IN\n",
      "IL\n",
      "NV\n",
      "NY\n",
      "OH\n",
      "VA\n",
      "WI\n"
     ]
    }
   ],
   "source": [
    "from os import listdir\n",
    "from os.path import isfile, join\n",
    "\n",
    "states = ['AK', 'AZ', 'CA', 'CO', 'PA', 'NC', 'SC', 'IN', 'IL', 'NV', 'NY', 'OH', 'VA', 'WI']\n",
    "\n",
    "for state in states:\n",
    "    print(state)\n",
    "    onlyfiles = [f for f in listdir('.') if isfile(join('.', f)) and state in f]\n",
    "    file1 = pd.read_csv(onlyfiles[0])\n",
    "    try:\n",
    "        for file in onlyfiles[1:]:\n",
    "            file2 = pd.read_csv(file)\n",
    "            combine = [file1, file2]\n",
    "            file1 = pd.concat(combine)\n",
    "    \n",
    "    except:\n",
    "        pass\n",
    "    \n",
    "    file1.to_csv(onlyfiles[0][:2]+'.csv', index=False)\n",
    "    \n",
    "    "
   ]
  },
  {
   "cell_type": "code",
   "execution_count": 8,
   "metadata": {},
   "outputs": [
    {
     "data": {
      "text/plain": [
       "['IL_review_1_output.csv', 'IL_review_2_output.csv', 'IL_review_3_output.csv']"
      ]
     },
     "execution_count": 8,
     "metadata": {},
     "output_type": "execute_result"
    }
   ],
   "source": [
    "onlyfiles"
   ]
  },
  {
   "cell_type": "code",
   "execution_count": 36,
   "metadata": {},
   "outputs": [],
   "source": [
    "file1 = pd.read_csv(onlyfiles[0])\n",
    "file2 = pd.read_csv(onlyfiles[1])\n",
    "\n",
    "combine = [file1, file2]\n",
    "test = pd.concat(combine)\n",
    "test.to_csv('test.csv', index=False)"
   ]
  },
  {
   "cell_type": "code",
   "execution_count": null,
   "metadata": {},
   "outputs": [],
   "source": []
  }
 ],
 "metadata": {
  "kernelspec": {
   "display_name": "Python 3",
   "language": "python",
   "name": "python3"
  },
  "language_info": {
   "codemirror_mode": {
    "name": "ipython",
    "version": 3
   },
   "file_extension": ".py",
   "mimetype": "text/x-python",
   "name": "python",
   "nbconvert_exporter": "python",
   "pygments_lexer": "ipython3",
   "version": "3.7.5"
  }
 },
 "nbformat": 4,
 "nbformat_minor": 4
}
