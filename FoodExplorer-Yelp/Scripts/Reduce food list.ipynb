{
 "cells": [
  {
   "cell_type": "code",
   "execution_count": 1,
   "metadata": {},
   "outputs": [
    {
     "name": "stdout",
     "output_type": "stream",
     "text": [
      "Collecting fuzzywuzzy\n",
      "  Downloading fuzzywuzzy-0.18.0-py2.py3-none-any.whl (18 kB)\n",
      "Installing collected packages: fuzzywuzzy\n",
      "Successfully installed fuzzywuzzy-0.18.0\n"
     ]
    }
   ],
   "source": [
    "!pip install fuzzywuzzy"
   ]
  },
  {
   "cell_type": "code",
   "execution_count": 164,
   "metadata": {},
   "outputs": [],
   "source": [
    "from fuzzywuzzy import fuzz\n",
    "from fuzzywuzzy import process\n",
    "import pandas as pd\n",
    "import numpy as np\n",
    "from tqdm import tqdm\n",
    "from time import sleep\n",
    "import  csv\n",
    "import nltk\n",
    "from nltk.stem import WordNetLemmatizer\n",
    "import string\n",
    "from nltk.corpus import stopwords\n"
   ]
  },
  {
   "cell_type": "code",
   "execution_count": 165,
   "metadata": {},
   "outputs": [],
   "source": [
    "########Stackoverflow approach:\n",
    "\n",
    "patterns=\"\"\"\n",
    "    NP: {<JJ>*<NN*>+}\n",
    "    {<JJ>*<NN*><CC>*<NN*>+}\n",
    "    {<NP><CC><NP>}\n",
    "    {<RB><JJ>*<NN*>+}\n",
    "    \"\"\"\n",
    "\n",
    "NPChunker = nltk.RegexpParser(patterns)\n",
    "\n",
    "def prepare_text(input):\n",
    "    sentences = nltk.sent_tokenize(input)\n",
    "    sentences = [nltk.word_tokenize(sent) for sent in sentences]\n",
    "#     print(sentences)\n",
    "    sentences = [[word for word in sent if word!='i'] for sent in sentences]\n",
    "#     print(sentences)\n",
    "    sentences = [nltk.pos_tag(sent) for sent in sentences]\n",
    "    sentences = [NPChunker.parse(sent) for sent in sentences]\n",
    "    return sentences\n",
    "\n",
    "\n",
    "def parsed_text_to_NP(sentences):\n",
    "    nps = []\n",
    "    for sent in sentences:\n",
    "        tree = NPChunker.parse(sent)\n",
    "#         print(tree)\n",
    "        for subtree in tree.subtrees():\n",
    "            if subtree.label() == 'NP':\n",
    "                t = subtree\n",
    "                t = ' '.join(word for word, tag in t.leaves())\n",
    "                nps.append(t)\n",
    "    return nps\n",
    "\n",
    "\n",
    "def sent_parse(input):\n",
    "    sentences = prepare_text(input)\n",
    "    nps = parsed_text_to_NP(sentences)\n",
    "    return nps\n",
    "\n",
    "\n",
    "\n",
    "\n",
    "def get_clean_sentence(text):\n",
    "    \"\"\"\n",
    "    Converting text to lower case as in, converting \"Hello\" to  \"hello\" or \"HELLO\" to \"hello\".\n",
    "    \"\"\"\n",
    "    wordnet_lemmatizer = WordNetLemmatizer()\n",
    "    for c in string.punctuation:\n",
    "        text = text.replace(c,' ')\n",
    "    tokens = nltk.word_tokenize(text)\n",
    "    words = [word for word in tokens if word.isalpha()]\n",
    "    stop_words = set(stopwords.words('english'))\n",
    "    words = [w.lower() for w in words if not w in stop_words]\n",
    "    return ' '.join(words)"
   ]
  },
  {
   "cell_type": "code",
   "execution_count": 179,
   "metadata": {},
   "outputs": [],
   "source": [
    "def clean_dish_name(text):\n",
    "#     text = 'aachari murgh'\n",
    "    cleaned_review = get_clean_sentence(text)\n",
    "    get_entities = sent_parse(cleaned_review)\n",
    "    if len(get_entities) > 0:\n",
    "#         print(get_entities)\n",
    "#         print(get_entities)\n",
    "        return get_entities[0]\n",
    "    return None\n",
    "# print(get_entities)"
   ]
  },
  {
   "cell_type": "code",
   "execution_count": 255,
   "metadata": {},
   "outputs": [
    {
     "name": "stdout",
     "output_type": "stream",
     "text": [
      "(42459, 1)\n"
     ]
    },
    {
     "data": {
      "text/plain": [
       "(42354,)"
      ]
     },
     "execution_count": 255,
     "metadata": {},
     "output_type": "execute_result"
    }
   ],
   "source": [
    "word_dict = {}\n",
    "yelp_word_list = pd.read_csv('food_file.txt', sep='\\n',header=None,encoding='utf-8')\n",
    "print(yelp_word_list.shape)\n",
    "yelp_word_list = [word[0] for word in yelp_word_list.values]\n",
    "yelp_word_list = np.asarray([str(word).lower() for word in yelp_word_list])\n",
    "yelp_word_list = np.asarray([word.replace(\"'\",'') for word in yelp_word_list])\n",
    "yelp_word_list = np.unique(yelp_word_list)\n",
    "yelp_word_list.shape"
   ]
  },
  {
   "cell_type": "code",
   "execution_count": 256,
   "metadata": {},
   "outputs": [
    {
     "name": "stdout",
     "output_type": "stream",
     "text": [
      "Wall time: 1min 10s\n"
     ]
    },
    {
     "data": {
      "text/plain": [
       "(42354,)"
      ]
     },
     "execution_count": 256,
     "metadata": {},
     "output_type": "execute_result"
    }
   ],
   "source": [
    "%%time\n",
    "vf = np.vectorize(clean_dish_name)\n",
    "yelp_word_list = vf(yelp_word_list)\n",
    "yelp_word_list.sort()\n",
    "yelp_word_list.shape\n",
    "# np.asarray([clean_dish_name(dish) for dish in word_list])"
   ]
  },
  {
   "cell_type": "code",
   "execution_count": 264,
   "metadata": {},
   "outputs": [
    {
     "data": {
      "text/plain": [
       "(38844,)"
      ]
     },
     "execution_count": 264,
     "metadata": {},
     "output_type": "execute_result"
    }
   ],
   "source": [
    "yelp_word_list = np.asarray([w for w in yelp_word_list if w != 'None'])\n",
    "yelp_word_list = np.unique(yelp_word_list)\n",
    "for word in unwanted_words:\n",
    "    try:\n",
    "        yelp_word_list.remove(word)\n",
    "    except:\n",
    "        pass\n",
    "yelp_word_list.shape"
   ]
  },
  {
   "cell_type": "code",
   "execution_count": 267,
   "metadata": {},
   "outputs": [],
   "source": [
    "yelp_df = pd.DataFrame(yelp_word_list)\n",
    "yelp_df.to_csv('yelp_foodset.csv',index=False,header=None)"
   ]
  },
  {
   "cell_type": "code",
   "execution_count": 240,
   "metadata": {},
   "outputs": [],
   "source": [
    "# %%time\n",
    "# query = 'country gentleman corn'\n",
    "# print(\"List of ratios: \")\n",
    "# print(process.extract(query, word_list, scorer=fuzz.partial_token_set_ratio), '\\n')\n",
    "# # print(\"Best among the above list: \", process.extractOne(query, word_list))"
   ]
  },
  {
   "cell_type": "code",
   "execution_count": 241,
   "metadata": {},
   "outputs": [],
   "source": [
    "##Get simple list of dishes - one word only\n",
    "\n",
    "# dict_words = {}\n",
    "# for word in new_word_list:\n",
    "#     for w in word.split(' '):\n",
    "#         dict_words[w] = dict_words.get(w,0)+1"
   ]
  },
  {
   "cell_type": "code",
   "execution_count": 208,
   "metadata": {},
   "outputs": [],
   "source": [
    "# food_set = [(dict_words[x],x) for x in dict_words.keys()]\n",
    "# food_set.sort(reverse=True)\n",
    "# # print(food_set)\n",
    "# simple_list = pd.DataFrame([x[1] for x in food_set])"
   ]
  },
  {
   "cell_type": "code",
   "execution_count": 212,
   "metadata": {},
   "outputs": [
    {
     "data": {
      "text/plain": [
       "(11979, 1)"
      ]
     },
     "execution_count": 212,
     "metadata": {},
     "output_type": "execute_result"
    }
   ],
   "source": [
    "# simple_list.shape"
   ]
  },
  {
   "cell_type": "code",
   "execution_count": 242,
   "metadata": {},
   "outputs": [],
   "source": [
    "# np.savetxt('simple_list.txt',simple_list)\n",
    "# print(simple_list)\n",
    "# simple_list.to_csv('simple_list.csv',index=False,header=False)\n",
    "\n",
    "\n",
    "##Simple approach to reduce food list"
   ]
  },
  {
   "cell_type": "code",
   "execution_count": 247,
   "metadata": {},
   "outputs": [
    {
     "name": "stdout",
     "output_type": "stream",
     "text": [
      "948\n",
      "203\n",
      "948\n",
      "203\n"
     ]
    }
   ],
   "source": [
    "###Refine simple_edited list using unwanted word list\n",
    "\n",
    "word_list = pd.read_csv('simple_list_edited.csv', sep='\\n',header=None,encoding='utf-8')\n",
    "unwanted_words = pd.read_csv('unwanted_words.csv', sep='\\n',header=None,encoding='utf-8')\n",
    "\n",
    "word_list = [word[0] for word in word_list.values]\n",
    "unwanted_words = [word[0] for word in unwanted_words.values]\n",
    "\n",
    "print(len(word_list))\n",
    "print(len(unwanted_words))\n",
    "\n",
    "for word in unwanted_words:\n",
    "    try:\n",
    "        word_list.remove(word)\n",
    "    except:\n",
    "        pass\n",
    "    \n",
    "print(len(word_list))\n",
    "print(len(unwanted_words))"
   ]
  },
  {
   "cell_type": "code",
   "execution_count": 244,
   "metadata": {},
   "outputs": [],
   "source": [
    "word_list = pd.DataFrame(word_list)\n",
    "word_list.to_csv('simple_list_edited.csv', header=None, index=False)"
   ]
  },
  {
   "cell_type": "code",
   "execution_count": 311,
   "metadata": {},
   "outputs": [
    {
     "data": {
      "text/plain": [
       "939"
      ]
     },
     "execution_count": 311,
     "metadata": {},
     "output_type": "execute_result"
    }
   ],
   "source": [
    "dict_words[word_list[1]]"
   ]
  },
  {
   "cell_type": "code",
   "execution_count": 281,
   "metadata": {},
   "outputs": [
    {
     "name": "stdout",
     "output_type": "stream",
     "text": [
      "['aachari murgh' 'aaloocholay' 'aardvark sauce' 'abacaxai mai tai'\n",
      " 'abalone style calamari']\n",
      "['chicken', 'salad', 'cream', 'chocolate', 'beef']\n"
     ]
    }
   ],
   "source": [
    "print(yelp_word_list[:5])\n",
    "print(word_list[:5])"
   ]
  },
  {
   "cell_type": "code",
   "execution_count": 308,
   "metadata": {
    "scrolled": true
   },
   "outputs": [
    {
     "name": "stderr",
     "output_type": "stream",
     "text": [
      "100%|████████████████████████████████████████████████████████████████████████████████████| 1/1 [00:02<00:00,  2.41s/it]"
     ]
    },
    {
     "name": "stdout",
     "output_type": "stream",
     "text": [
      "salad :  [('additional large salad', 100), ('ahi poki salad', 100), ('ahi salad', 100), ('ahi tuna avocado salad', 100), ('ahi tuna entree salad', 100), ('ahi tuna poke salad', 100), ('ahi tuna salad', 100), ('al pastor salad', 100), ('american salad', 100), ('anchovy potato salad', 100), ('antipasta salad', 100), ('antipasti salad', 100), ('antipasto salad', 100), ('antipato salad', 100), ('anything everything salad', 100), ('anzu house salad', 100), ('apple avocado salad', 100), ('apple fennel salad', 100), ('apple gorgonzola salad', 100), ('apple salad', 100), ('arabic salad', 100), ('argentina salad', 100), ('arizona salad', 100), ('artichoke salad', 100), ('arugala salad', 100), ('arugula fennel salad', 100), ('arugula salad', 100), ('arugula salad focaccia', 100), ('arugula salad pizza', 100), ('arugula salad w', 100), ('asbury spring salad', 100), ('asian chicken salad', 100), ('asian salad', 100), ('asian salmon salad', 100), ('asian sesame chicken salad', 100), ('asian sesame salad', 100), ('asian slaw salad', 100), ('asparagus salad', 100), ('aubergine salad', 100), ('augusta avenue salad', 100), ('avocado caprice salad', 100), ('avocado salad', 100), ('avocados crab salad', 100), ('az cobb salad', 100), ('b house salad', 100), ('baby arugula salad', 100), ('baby arugula tomato salad', 100), ('baby caesar salad', 100), ('baby kale salad', 100), ('baby spinach salad', 100), ('bacon cheeseburger salad', 100), ('bacon potato salad', 100), ('bacon salad', 100), ('bacon side salad', 100), ('baja shrimp salad', 100), ('balsamic beet salad', 100), ('balsamic chicken salad', 100), ('balsamic steak salad', 100), ('barley beluga lentil fetoosh salad', 100), ('barroco salad', 100), ('basmati rice house salad', 100), ('bbq chicken salad', 100), ('bbq ranch chicken salad', 100), ('bbq ranch salad', 100), ('bbq salad http', 100), ('beach salad', 100), ('bean salad', 100), ('beautiful beet salad', 100), ('beautiful salad', 100), ('beef burger salad', 100), ('beef kebob salad', 100), ('beef salad', 100), ('beef steak salad', 100), ('beer salad', 100), ('beet apple salad', 100), ('beet blue salad', 100), ('beet goat cheese salad', 100), ('beet riot salad', 100), ('beet salad', 100), ('beet salad mac', 100), ('belgian endive salad', 100), ('bella salad', 100), ('beluga lentil fetoosh salad', 100), ('berry salad', 100), ('bethany home salad', 100), ('bibb salad', 100), ('big green salad', 100), ('bistro chicken salad', 100), ('black bean corn salad', 100), ('blackbean corn salad', 100), ('bleu caesar salad', 100), ('blue cheese steak salad', 100), ('blue cheese walnut salad', 100), ('blue salad', 100), ('bocconcini salad', 100), ('bowl salad', 100), ('brisket salad', 100), ('broccoli quinoa salad', 100), ('broccoli salad', 100), ('broccolini salad', 100), ('brown rice salad', 100), ('brussel beet salad', 100), ('brussel sprout caesar salad', 100), ('brussel sprout salad', 100), ('buffalo chicken salad', 100), ('buffalo salad', 100), ('buratta salad', 100), ('butternut seasonal salad', 100), ('butternut squash salad', 100), ('cabbage salad', 100), ('cactus salad', 100), ('caesar salad', 100), ('caesar salad w chicken', 100), ('caeser salad', 100), ('cajun chicken salad', 100), ('cake shrimp salad', 100), ('calamari salad', 100), ('calamari tempura salad', 100), ('cali salad', 100), ('camelback salad', 100), ('caprese salad', 100), ('caprese salad bruschetta', 100), ('caprese salad hummus nachos', 100), ('caprise salad', 100), ('carciofi salad', 100), ('caribbean mango chicken salad', 100), ('caribbean salad', 100), ('carne asada chicken salad', 100), ('carne asada fajita salad', 100), ('carne asada house salad', 100), ('carrot salad', 100), ('catfish plate w bacon potato salad', 100), ('cauliflower asparagus salad', 100), ('cauliflower salad', 100), ('ceasar salad', 100), ('ceaser salad', 100), ('celery salad', 100), ('cesar salad', 100), ('chayo salad', 100), ('cheese salad', 100), ('cheese salad potato', 100), ('cheese spinach salad w salmon', 100), ('cheese stick salad', 100), ('chef salad', 100), ('cherry tomato salad', 100), ('chicharron arugula salad', 100), ('chicken avocado salad', 100), ('chicken bacon ranch salad', 100), ('chicken caesar pasta salad', 100), ('chicken caesar salad', 100), ('chicken caesar salad wrap', 100), ('chicken ceasar salad', 100), ('chicken cobb salad', 100), ('chicken cucumber salad', 100), ('chicken fattoush salad', 100), ('chicken greek salad', 100), ('chicken harvest salad', 100), ('chicken kabab salad', 100), ('chicken mango salad', 100), ('chicken pasta salad', 100), ('chicken salad', 100), ('chicken salad appetizer', 100), ('chicken salad croissant', 100), ('chicken salad hoagie', 100), ('chicken salad roll', 100), ('chicken salad salad', 100), ('chicken salad sandwhich', 100), ('chicken salad sandwich', 100), ('chicken salad sub', 100), ('chicken salad wrap', 100), ('chicken satay salad', 100), ('chicken shawarma rice salad', 100), ('chicken shawarma salad', 100), ('chicken strawberry spinach salad', 100), ('chicken sunomono salad', 100), ('chicken taco salad', 100), ('chicken tikka salad', 100), ('chicken w caesar salad', 100), ('chicken walnut salad', 100), ('chickpea salad', 100), ('chiken salad', 100), ('chili lime chicken salad', 100), ('chinese chicken salad', 100), ('chinese lobster salad', 100), ('chinese salad', 100), ('chinois salad', 100), ('chipotle chicken salad', 100), ('chipotle chicken taco salad', 100), ('chipotle potato salad', 100), ('chive salad', 100), ('choolah salad', 100), ('chop chop salad', 100), ('chop salad', 100), ('chorizo salad', 100), ('choy salad', 100), ('cilantro lime rice guacamole salad', 100), ('cilantro salad', 100), ('citrus crab salad', 100), ('citrus fennel salad', 100), ('citrus salad', 100), ('ckn shawarma salad', 100), ('classic caesar salad', 100), ('classic caprese salad', 100), ('classic greek salad', 100), ('classic salad', 100), ('cleveland crisp salad', 100), ('cloud ear mushroom salad', 100), ('cobb salad', 100), ('code bleu wedge salad', 100), ('cold salad', 100), ('coleslaw salad', 100), ('coleslaw salad appetizer', 100), ('combination salad', 100), ('combo salad', 100), ('communal salad', 100), ('complementary salad', 100), ('complimentary bread carrot salad', 100), ('complimentary bread salad', 100), ('complimentary miso soup salad', 100), ('complimentary soup salad', 100), ('corn salad', 100), ('country potato salad', 100), ('crab caesar salad', 100), ('crab cucumber salad', 100), ('crab mango salad', 100), ('crab mountain potato salad', 100), ('crab salad', 100), ('crab salad sushi', 100), ('crab salad top', 100), ('crabmeat salad', 100), ('cranberry apple chicken salad', 100), ('cranberry chicken salad', 100), ('cranberry salad', 100), ('cranberry walnut salad', 100), ('crazy ivan salad', 100), ('creamy crab salad w avocado', 100), ('creamy potato salad', 100), ('creation salad', 100), ('cripsy chicken salad', 100), ('crispy chicken caesar salad', 100), ('crispy chicken salad', 100), ('crispy duck salad', 100), ('crispy rice salad', 100), ('crispy shrimp caesar salad', 100), ('crispy taco salad', 100), ('crunchy salad', 100), ('cucumber apple salad', 100), ('cucumber crab salad', 100), ('cucumber salad', 100), ('cucumber salad roll', 100), ('curry chicken salad', 100), ('custom salad', 100), ('cyan salad', 100), ('da salad', 100), ('daikon salad', 100), ('debs chicken salad', 100), ('decent salad', 100), ('delicious aztec salad', 100), ('delicious aztec salad soup', 100), ('delicious salad', 100), ('delicious salad kimchee', 100), ('delicious tuscan salad', 100), ('della casa salad', 100), ('dinner salad', 100), ('dionysos salad', 100), ('domenica salad', 100), ('donair salad', 100), ('double wedge salad', 100), ('dragon fruit salad', 100), ('duck leg caesar salad', 100), ('duck salad', 100), ('dungeness crab apple salad', 100), ('ebi salad', 100), ('edgar allan poe salad', 100), ('egg roll salad', 100), ('egg salad', 100), ('egg salad aioli', 100), ('egg salad sando', 100), ('egg salad sandwich', 100), ('egg salad w satay', 100), ('eggplant bocconcini salad', 100), ('eggplant salad', 100), ('endive salad', 100), ('endless salad bar', 100), ('especial summer salad', 100), ('everything salad', 100), ('exquisite lobster salad', 100), ('f b house salad', 100), ('falafel salad', 100), ('fall harvest salad', 100), ('famous spinach salad', 100), ('famous tomato salad', 100), ('farm salad', 100), ('farmhouse salad', 100), ('fatouch salad', 100), ('fatoush salad', 100), ('fattouch salad', 100), ('fattoush salad', 100), ('favorite salad', 100), ('fennel salad', 100), ('feta berry salad', 100), ('feta salad', 100), ('fiesta salad', 100), ('fig panela salad', 100), ('fig panella salad', 100), ('fish salad', 100), ('fly bean salad', 100), ('fox pecan salad', 100), ('france salad', 100), ('free potato salad', 100), ('free salad', 100), ('french lentil salad', 100), ('french salad', 100), ('fresh bean salad', 100), ('fresh bread pasta side soup salad', 100), ('fresh complimentary salad', 100), ('fresh delicious sweet tomato salad', 100), ('fresh fruit salad', 100), ('fresh garden salad', 100), ('fresh haddock fish salad', 100), ('fresh house salad', 100), ('fresh kelp salad', 100), ('fresh mango salad', 100), ('fresh mix salad', 100), ('fresh mixer salad', 100), ('fresh salad bar', 100), ('fresh salmon salad', 100), ('fresh side salad', 100), ('fresh strawberry chevre salad', 100), ('fresh summer salad', 100), ('fresh vegetable salad', 100), ('fried watercress salad', 100), ('frisee fennel salad', 100), ('frisee spinach salad', 100), ('fruit salad', 100), ('gaias treasure w house salad', 100), ('gamberi salad', 100), ('garbage salad', 100), ('garden salad', 100), ('garden salad miso soup', 100), ('garden salad yogurt', 100), ('garrison salad', 100), ('german cucumber salad', 100), ('gigi salad', 100), ('ginger ponzu salad', 100), ('ginger salad', 100), ('ginger tuna salad', 100), ('giovannis salad', 100), ('goat cheese salad', 100), ('golden beet salad', 100), ('golden chicken salad', 100), ('good salad w', 100), ('gorgonzola salad', 100), ('grand cobb salad', 100), ('grandma salad', 100), ('great salad', 100), ('great salad alternative', 100), ('greek chicken salad', 100), ('greek salad', 100), ('greek salad bowl', 100), ('greek salad plenty', 100), ('greek salad w chicken', 100), ('greek side salad', 100), ('greek town salmon salad', 100), ('greek village salad', 100), ('green cabbage salad', 100), ('green mango salad', 100), ('green papaya salad', 100), ('green salad', 100), ('green salad sourdough bread', 100), ('green salad tho', 100), ('green salad w vinaigette', 100), ('green tomato caprese salad', 100), ('green tomato salad', 100), ('grilled salmon salad', 100), ('guacamole salad', 100), ('gyro pasta salad', 100), ('gyro pita greek salad', 100), ('gyro salad', 100), ('gyu shabu salad', 100), ('habibi salad', 100), ('hachi style salad', 100), ('half portion caesar salad', 100), ('half salad', 100), ('half sandwich salad', 100), ('halibut crudo salad', 100), ('halloumi salad', 100), ('ham salad', 100), ('happy hippy kale salad', 100), ('harvest salad', 100), ('hatch chicken salad', 100), ('healthy chef salad', 100), ('healthy salad', 100), ('healthyish salad', 100), ('heirloom beet salad', 100), ('heirloom tomato salad', 100), ('heirloom tomato salad champagne vinaigrette', 100), ('herb chicken salad sandwich', 100), ('herb salad', 100), ('heritage farm squash salad', 100), ('hh papaya salad', 100), ('hirame watercress salad', 100), ('hive greek salad', 100), ('hollandaise cherry tomato salad', 100), ('home greek salad', 100), ('home greek salad pepperoni pizza', 100), ('homemade chicken salad', 100), ('hot chix salad', 100), ('hot chix salad bowl', 100), ('hot thai beef salad', 100), ('house salad', 100), ('huge salad', 100), ('hummus salad', 100), ('hummus veggie salad', 100), ('husband side salad', 100), ('iceberg lettuce wedge salad', 100), ('iceberg salad', 100), ('ingredient salad', 100), ('irish beef stew soup salad', 100), ('israeli salad', 100), ('italian farm salad', 100), ('italian tomato side salad', 100), ('japanese mushroom salad', 100), ('japanese style potato salad', 100), ('jasmin salad', 100), ('jellyfish salad', 100), ('jewel art salad', 100), ('jicama papaya salad', 100), ('jicama salad', 100), ('jicama salad rice', 100), ('johnnys house salad', 100), ('kale caesar salad', 100), ('kale crunch salad', 100), ('kale kai salad', 100), ('kale pesto salad', 100), ('kale quinoa salad', 100), ('kale salad', 100), ('kale salad ahi tuna', 100), ('kale salad pic credit', 100), ('kale salad spinach salad', 100), ('kalefornia love salad', 100), ('kelp salad', 100), ('kitchen sink salad', 100), ('kizuna salad', 100), ('la saj fruit salad', 100), ('laap salad', 100), ('lady salad', 100), ('langoustine salad', 100), ('lao papaya salad', 100), ('larb beeb salad ground beef', 100), ('larb salad', 100), ('large greek salad', 100), ('lazy goat salad', 100), ('lemon cilantro chicken salad', 100), ('lemon persian potato salad', 100), ('lemon vinaigrette tuna salad', 100), ('lentil salad', 100), ('light salad', 100), ('lilikoi pear salad', 100), ('little veggie salad', 100), ('lobster avocado salad', 100), ('lobster salad', 100), ('lobster salad bun mee', 100), ('lotus root salad', 100), ('lotus salad', 100), ('lyonnaise salad', 100), ('mac salad', 100), ('macaroni salad', 100), ('macaroni salad spam masubi', 100), ('mackerel salad', 100), ('mad caesar salad', 100), ('magic mushroom salad', 100), ('main salad', 100), ('maine lobster salad', 100), ('mango chicken salad', 100), ('mango habanero tostada salad', 100), ('mango salad', 100), ('mango shrimp salad', 100), ('mango tiger shrimp salad', 100), ('maple sweet pork salad', 100), ('market chicken salad', 100), ('market salad', 100), ('masala peanut salad', 100), ('meal salad', 100), ('mediterranean ahi salad', 100), ('mediterranean chicken salad', 100), ('mediterranean pasta salad', 100), ('mediterranean salad', 100), ('melon feta salad', 100), ('mexi salad', 100), ('mexican cobb salad', 100), ('mexican salad', 100), ('miga sashimi garden salad', 100), ('miga sashimi salad', 100), ('mint salad', 100), ('mint steak salad', 100), ('miso house salad', 100), ('miso soup potato salad', 100), ('miso soup salad', 100), ('mix salad', 100), ('mixed greek green salad', 100), ('mixed green salad', 100), ('mixed salad', 100), ('modern greek salad', 100), ('mountain potato salad', 100), ('mozzarella broccolini salad', 100), ('mushroom chicken salad', 100), ('mushroom salad', 100), ('new chicken salad', 100), ('nice salad', 100), ('nippon asian salad', 100), ('noodle salad', 100), ('noodle salad vegetarian', 100), ('northern style beef salad', 100), ('ocean salad', 100), ('octopus salad', 100), ('octopus salad nicoise', 100), ('olive salad', 100), ('onion cilantro salad', 100), ('onion salad', 100), ('orange jicama salad', 100), ('orange salad w chicken', 100), ('orchard salad', 100), ('oreganos original salad', 100), ('organic mix salad', 100), ('organic mix salad chutney chana', 100), ('organic red quinoa salad', 100), ('organic tuscan kale salad', 100), ('oriental chicken salad', 100), ('original greek salad', 100), ('oristeak salad', 100), ('orzo salad', 100), ('ottoman salad', 100), ('outlaw burger bacon potato salad', 100), ('owl house salad', 100), ('pablo picasso mexico salad', 100), ('palm pesto salad', 100), ('pancho villa salad', 100), ('panela salad', 100), ('panella salad', 100), ('panzanella salad', 100), ('papaya salad', 100), ('papaya salad chicken', 100), ('papaya salad steak curry', 100), ('parsley salad', 100), ('pasta salad', 100), ('peach chicken salad', 100), ('peach salad', 100), ('peach salad heirloom cherry tomato', 100), ('pear arugula salad', 100), ('pear beef salad', 100), ('pear goat cheese salad', 100), ('pear salad', 100), ('pear salad lindt chocolate', 100), ('pearfection salad', 100), ('pecan chicken salad', 100), ('pecanberry salad', 100), ('persian potato salad', 100), ('pesto pizza farm salad', 100), ('pesto salad', 100), ('petite herb salad', 100), ('pho salad', 100), ('pho superfood salad', 100), ('pillow bread salad', 100), ('pineapple jicama salad', 100), ('pineapple salad', 100), ('pittsburgh salad', 100), ('pizza salad lunch', 100), ('pj salad', 100), ('pla mango salad', 100), ('plum salad', 100), ('poke salad', 100), ('pollo salad', 100), ('pomegranate salad', 100), ('pomelo pomegranate pistachio salad', 100), ('popular hazel salad', 100), ('pork hock salad', 100), ('pork salad', 100), ('pork sausage salad', 100), ('pot house salad', 100), ('potato salad', 100), ('potato salad roll', 100), ('potato salad silk', 100), ('power chopper salad', 100), ('power salad', 100), ('prawn salad', 100), ('pretzel bun kale salad pic credit', 100), ('prime rib cobb salad', 100), ('prosciutto arugula salad pizza', 100), ('pub blt salad', 100), ('purple cabbage salad', 100), ('quinoa arugula salad', 100), ('quinoa beet arugula salad', 100), ('quinoa salad', 100), ('quinoa salad soup', 100), ('quinoa side salad', 100), ('quixote salad', 100), ('radicchio citrus salad', 100), ('rainbow salad roll', 100), ('raspberry chicken salad', 100), ('rawco taco salad', 100), ('real big chicken cesar salad', 100), ('red pepper salad', 100), ('red pepper salad carrot salad', 100), ('red potato salad', 100), ('red quinoa salad', 100), ('red shrimp salad', 100), ('reyna salad', 100), ('ribeye salad', 100), ('ribs pasta salad', 100), ('rice mac salad', 100), ('rice macaroni salad', 100), ('rice salad', 100), ('rice steak salad', 100), ('rocket salad', 100), ('romaine salad', 100), ('root veggie salad', 100), ('rotisserie chicken caesar salad', 100), ('rucola salad', 100), ('russian salad', 100), ('rustic caprese salad', 100), ('rustic salad bowl', 100), ('salad', 100), ('salad appetizer', 100), ('salad bar', 100), ('salad bar lunch', 100), ('salad bowl', 100), ('salad bowl order', 100), ('salad bowl sushi burrito', 100), ('salad bread', 100), ('salad chicken', 100), ('salad combo', 100), ('salad dish', 100), ('salad flatbread w', 100), ('salad fresh bread', 100), ('salad fruit', 100), ('salad ginger sauce', 100), ('salad home', 100), ('salad hot sauce', 100), ('salad lunch', 100), ('salad meal', 100), ('salad mole verde', 100), ('salad option', 100), ('salad perfection', 100), ('salad potato', 100), ('salad ruby', 100), ('salad sandwich', 100), ('salad side', 100), ('salad sou', 100), ('salad soup', 100), ('salad spice level', 100), ('salad tempura', 100), ('salad udon', 100), ('salad vegetariano', 100), ('salad w', 100), ('salad w ribeye steak', 100), ('salad wet steak burrito', 100), ('salad wine', 100), ('salad wrap', 100), ('salmon avocado salad', 100), ('salmon kale salad', 100), ('salmon poke salad', 100), ('salmon salad', 100), ('salmon sashimi salad', 100), ('salmon skin salad', 100), ('salmon skin salad appetizer', 100), ('samba salad', 100), ('sandwich salad', 100), ('santa fe salad', 100), ('santa fe salad combo', 100), ('santa monica salad', 100), ('sarasita salad', 100), ('sashimi garden salad', 100), ('sashimi salad', 100), ('sashimi salad apple pie', 100), ('sausage bacon salad', 100), ('sausage salad', 100), ('scoop mac salad', 100), ('scoop salad bowl', 100), ('seafood bisque wedge salad', 100), ('seafood korea salad', 100), ('seafood salad', 100), ('season salad', 100), ('seasonal ingredient salad', 100), ('seasonal salad', 100), ('seaweed salad', 100), ('seaweed salad peanut butter sauce', 100), ('seaweed salad tempura combo', 100), ('seaweed tofu salad', 100), ('secret garden salad', 100), ('senyai salad', 100), ('sesame chicken salad', 100), ('sesame salmon salad', 100), ('shawarma santa fe salad', 100), ('shepherd salad', 100), ('shirazi salad', 100), ('shopska salad', 100), ('shrimp avocado salad', 100), ('shrimp beef salad', 100), ('shrimp caesar salad', 100), ('shrimp chorizo salad', 100), ('shrimp cobb salad', 100), ('shrimp cusabi salad', 100), ('shrimp kabob salad', 100), ('shrimp louie salad', 100), ('shrimp mango salad', 100), ('shrimp salad', 100), ('shrimp salad lunch', 100), ('shrimp vermicelli salad', 100), ('sicilian salad', 100), ('side garden salad', 100), ('side mediterranean salad', 100), ('side salad', 100), ('side salad vanilla latte', 100), ('side salad water', 100), ('side salad wine', 100), ('signature salad', 100), ('simple salad', 100), ('size greek salad', 100), ('size mediterranean chicken salad', 100), ('size mediterranean salad', 100), ('sizzle salad', 100), ('slice salad option', 100), ('small caesar salad', 100), ('small casa salad', 100), ('small ceasar salad', 100), ('small greek salad', 100), ('small salad', 100), ('small side salad', 100), ('smart salad', 100), ('smoked salmon dill salad', 100), ('smoked salmon salad', 100), ('snow crab salad', 100), ('soba noodle salad', 100), ('soba salad', 100), ('sockeye salmon salad', 100), ('sofia salad', 100), ('soft shell crab salad', 100), ('soggy pizza decent salad', 100), ('sonoma salad', 100), ('sonoran chicken salad', 100), ('soup salad', 100), ('soup salad combo', 100), ('sour cream salad', 100), ('southern salad', 100), ('southwest chop salad', 100), ('southwest salad', 100), ('southwestern chicken cobb salad', 100), ('southwestern salad', 100), ('special homemade chicken salad', 100), ('special salad', 100), ('special slice salad option', 100), ('special small salad', 100), ('spicy beef salad', 100), ('spicy cabbage salad', 100), ('spicy chicken salad', 100), ('spicy squid salad', 100), ('spicy thym glaze cabbage salad', 100), ('spicy tuna poke salad', 100), ('spicy tuna salad', 100), ('spinach apple salad', 100), ('spinach chicken salad', 100), ('spinach passion salad', 100), ('spinach pasta salad', 100), ('spinach salad', 100), ('spring bean salad', 100), ('spring mix salad', 100), ('spring onion salad', 100), ('spring salad', 100), ('squash salad', 100), ('squid salad', 100), ('starter arugula salad', 100), ('starter salad', 100), ('steak caesar salad', 100), ('steak chicken salad', 100), ('steak salad', 100), ('steakhouse salad', 100), ('stick salad', 100), ('strawberry balsamic chicken salad', 100), ('strawberry gorgonzola salad', 100), ('strawberry salad', 100), ('strawberry spinach salad', 100), ('strip steak salad', 100), ('summer berry salad', 100), ('sunomono salad', 100), ('superfood salad', 100), ('supergreen salad', 100), ('surf clam salad', 100), ('sushi salad', 100), ('swedish shrimp salad', 100), ('sweet gem lettuce salad', 100), ('sweet potato strawberry salad', 100), ('swordfish po boy potato salad', 100), ('tabbouleh salad', 100), ('tabbouli salad', 100), ('taboule salad', 100), ('tabouleh salad appetizer', 100), ('taco salad', 100), ('tacos pasta salad', 100), ('tahini salad', 100), ('tartar sauce greek salad', 100), ('tenderloin steak salad', 100), ('teriyaki ahi salad', 100), ('texican chicken salad', 100), ('thai beef salad', 100), ('thai crunch salad', 100), ('thai mango salad', 100), ('thai papaya salad', 100), ('thai salad', 100), ('thai sea bean salad lime vinaigrette', 100), ('thai spoon fruit salad', 100), ('thai steak salad', 100), ('third street salad', 100), ('tofu choolaah salad', 100), ('tofu salad', 100), ('tofu spinach salad', 100), ('tomate salad', 100), ('tomato burrata salad', 100), ('tomato cucumber salad', 100), ('tomato mozzarella salad', 100), ('tomato pesto salad', 100), ('tomato salad', 100), ('tomaydo mozz salad', 100), ('tortellini salad', 100), ('tostada salad', 100), ('traditional persian russian salad', 100), ('true q salad', 100), ('tuna nicoise salad', 100), ('tuna salad', 100), ('tuna salad toast', 100), ('tuna sashimi salad', 100), ('tuna tataki salad', 100), ('turkey breast salad', 100), ('turkey salad', 100), ('turkish salad', 100), ('turkish salad rice', 100), ('tuscan chicken salad', 100), ('ty cobb salad', 100), ('ultimate caesar salad', 100), ('umami salad', 100), ('union salad', 100), ('unique starter salad', 100), ('unlimited salad', 100), ('unlimited salad miso soup', 100), ('unlimited soup salad', 100), ('urban seed salad', 100), ('varese salad', 100), ('veg salad', 100), ('vegan salad', 100), ('vegetable salad', 100), ('vegetarian salad', 100), ('vegetarian salad health bowl', 100), ('vegetarian yusheng salad', 100), ('veggie pasta salad', 100), ('veggie salad', 100), ('verde valley salad w', 100), ('vermicelli salad', 100), ('vietnamese rainbow salad', 100), ('vietnamese salad', 100), ('village salad', 100), ('w herb salad', 100), ('w kale salad', 100), ('w side salad', 100), ('wakame salad', 100), ('waldorf chicken salad', 100), ('waldorf manchester chicken salad', 100), ('waldorf salad', 100), ('walleye ahi salad', 100), ('walnut salad', 100), ('warm king oyster mushroom salad', 100), ('warm mushroom salad', 100), ('warm octopus salad', 100), ('warm potato salad', 100), ('warm quail salad', 100), ('warm veggie salad', 100), ('watermelon arugula salad', 100), ('watermelon caesar salad', 100), ('watermelon salad', 100), ('wedge salad', 100), ('white asparagus salad', 100), ('white rice salad', 100), ('wild blue summer salad', 100), ('winter salad', 100), ('wonderful chop salad', 100), ('wonderful chop salad vampire taco', 100), ('wonderful side salad', 100), ('wonderful side salad craft beer', 100), ('woon sen salad', 100), ('word salad', 100), ('yellowfin tuna salad', 100), ('yogurt salad', 100), ('yum mama salad', 100), ('yummy hibachi salad', 100), ('yuzu salad', 100), ('zucchini salad', 100), ('salade', 91), ('salsa', 80), ('salud', 80), ('ensalada', 77), ('baladi', 73), ('island', 73), ('masala', 73), ('salame', 73), ('salami', 73), ('salgam', 73), ('salsas', 73), ('alamode', 67), ('alla', 67), ('baleada', 67), ('lady', 67), ('marsala', 67), ('massala', 67), ('salt', 67), ('slam', 67), ('slaw', 67), ('spatula', 67), ('bresaola', 62), ('calvados', 62), ('crapload', 62), ('islander', 62), ('malasada', 62), ('maryland', 62), ('meatload', 62), ('railyard', 62), ('salsa verde', 62), ('scotland', 62), ('sea salt', 62), ('smallman', 62), ('spaniard', 62), ('standard', 62), ('thailand', 62), ('verde salsa', 62), ('way salt', 62), ('alana', 60), ('aloha', 60), ('alpha', 60), ('asada', 60), ('award', 60), ('azada', 60), ('bland', 60), ('caldo', 60), ('gayla', 60), ('halal', 60), ('jalea', 60), ('kalua', 60), ('lardo', 60), ('malta', 60), ('osaka', 60), ('papad', 60), ('salty', 60), ('salty salty salty', 60), ('samoa', 60), ('samsa', 60), ('sando', 60), ('santa', 60), ('sarap', 60), ('sarde', 60), ('sarma', 60), ('satay', 60), ('scale', 60), ('slide', 60), ('snail', 60), ('stale', 60), ('cesar salade', 59), ('crystal jade', 59), ('lomo saltada', 59), ('lomo saltado', 59), ('masala papad', 59), ('boat load', 57), ('boscaiola', 57), ('half yard', 57), ('la', 57), ('la fiesta', 57), ('malfadini', 57), ('marmalade', 57), ('masaledar', 57), ('parillada', 57), ('qasadilla', 57), ('red salsa', 57), ('salciccla', 57), ('salsa bar', 57), ('salsiccia', 57), ('silverado', 57), ('sopapilla', 57), ('tresalsas', 57), ('salade citron', 56), ('sandwich salt', 56), ('seared salmon', 56), ('tomato salade', 56), ('aboard', 55), ('alaska', 55), ('almond', 55), ('amadai', 55), ('amanda', 55), ('angela', 55), ('asados', 55), ('bufala', 55), ('canada', 55), ('canard', 55), ('canela', 55)] \n",
      "\n",
      "Wall time: 2.41 s\n"
     ]
    },
    {
     "name": "stderr",
     "output_type": "stream",
     "text": [
      "\n"
     ]
    }
   ],
   "source": [
    "%%time\n",
    "## Using fuzzy matches of words from simple list to get more dishes from new_word_list\n",
    "for dish in tqdm(word_list[1:2]):\n",
    "    print(dish, ': ' ,process.extract(dish, yelp_word_list, scorer=fuzz.token_set_ratio, limit=1000), '\\n')\n"
   ]
  },
  {
   "cell_type": "code",
   "execution_count": 327,
   "metadata": {},
   "outputs": [
    {
     "name": "stderr",
     "output_type": "stream",
     "text": [
      "100%|████████████████████████████████████████████████████████████████████████████████| 948/948 [42:02<00:00,  2.66s/it]"
     ]
    },
    {
     "name": "stdout",
     "output_type": "stream",
     "text": [
      "Wall time: 42min 2s\n"
     ]
    },
    {
     "name": "stderr",
     "output_type": "stream",
     "text": [
      "\n"
     ]
    }
   ],
   "source": [
    "%%time\n",
    "extended_list = set()\n",
    "## Using fuzzy matches of words from simple list to get more dishes from new_word_list\n",
    "for dish in tqdm(word_list):\n",
    "    matches = process.extract(dish, yelp_word_list, scorer=fuzz.token_set_ratio, limit=dict_words[dish])\n",
    "    for match in matches:\n",
    "        if match[1] > 90:\n",
    "            extended_list.add(match[0])\n"
   ]
  },
  {
   "cell_type": "code",
   "execution_count": 329,
   "metadata": {},
   "outputs": [
    {
     "name": "stdout",
     "output_type": "stream",
     "text": [
      "27985\n",
      "948\n",
      "27985\n"
     ]
    }
   ],
   "source": [
    "print(len(extended_list))\n",
    "for word in word_list:\n",
    "    extended_list.add(word)\n",
    "print(len(word_list))\n",
    "print(len(extended_list))"
   ]
  },
  {
   "cell_type": "code",
   "execution_count": 330,
   "metadata": {},
   "outputs": [],
   "source": [
    "extended_list_df = pd.DataFrame(extended_list)\n",
    "extended_list_df.to_csv('extended_list.csv', header=None, index=False)"
   ]
  },
  {
   "cell_type": "code",
   "execution_count": 371,
   "metadata": {},
   "outputs": [],
   "source": [
    "def updateRating(old_tuple,rating):\n",
    "    old_rating, old_count = old_tuple\n",
    "    new_rating = (old_rating*old_count + rating)/(old_count+1)\n",
    "    return (new_rating, old_count+1)\n",
    "\n",
    "def getDishes3(business_ids, reviews, ratings):\n",
    "    result = []\n",
    "    global matching_cache, food_count, food_to_biz\n",
    "    for business_id, text, rating in tqdm(zip(business_ids, reviews, ratings)):\n",
    "        cleaned_review = get_clean_sentence(text)\n",
    "        get_entities = sent_parse(text) + sent_parse(cleaned_review)\n",
    "        get_unique_entities = set(get_entities)\n",
    "        print(get_unique_entities)\n",
    "        dishes_in_review = set([])\n",
    "        for entity in get_unique_entities:\n",
    "            dish = None\n",
    "            if matching_cache.get(entity,0) == 0:\n",
    "                match = process.extractOne(entity, word_list, scorer=fuzz.token_set_ratio)\n",
    "                if match[1]>=70:\n",
    "                    matching_cache[entity] = match[0]\n",
    "                else:\n",
    "                    matching_cache[entity] = None\n",
    "\n",
    "            if matching_cache[entity] != None:\n",
    "                dish = matching_cache[entity]\n",
    "            \n",
    "            if dish != None:\n",
    "                dishes_in_review.add(dish)\n",
    "                \n",
    "        for dish in dishes_in_review:\n",
    "            temp = food_to_biz.setdefault(dish,{})\n",
    "            temp[business_id] = updateRating(temp.setdefault(business_id,(0,0)),rating)\n",
    "            food_to_biz[dish] = temp\n",
    "            food_count[dish] = updateRating(food_count.setdefault(dish,(0,0)),rating)\n",
    "\n",
    "            \n",
    "        result.append(dishes_in_review)\n",
    "    return result"
   ]
  },
  {
   "cell_type": "code",
   "execution_count": 372,
   "metadata": {},
   "outputs": [
    {
     "name": "stderr",
     "output_type": "stream",
     "text": [
      "\r",
      "0it [00:00, ?it/s]"
     ]
    },
    {
     "name": "stdout",
     "output_type": "stream",
     "text": [
      "{'egg', 'individual', 'good anytime', 'tasty sweet', 'crazy busy business', 'filling.Lunch time', 'muffin', 'fan', 'spinach', 'french onion', 'business', 'big cookie', 'individual birthday plus big cookie', 'bacon', 'paradise', 'cup', 'talk', 'BEWARE', 'lunch time', 'roll', 'time', 'chicken wild rice broccoli', 'birthday', 'individual birthday', 'day', 'salad bacon', 'chocolate chip banana muffin', 'staff', 'tasty -sweet', 'day fan', 'Spinach salad'}\n"
     ]
    },
    {
     "name": "stderr",
     "output_type": "stream",
     "text": [
      "1it [00:01,  1.88s/it]"
     ]
    },
    {
     "name": "stdout",
     "output_type": "stream",
     "text": [
      "Wall time: 1.88 s\n"
     ]
    },
    {
     "name": "stderr",
     "output_type": "stream",
     "text": [
      "\n"
     ]
    },
    {
     "data": {
      "text/plain": [
       "[{'bacon',\n",
       "  'bear',\n",
       "  'chicken',\n",
       "  'chocolate',\n",
       "  'cookie',\n",
       "  'daddy',\n",
       "  'egg',\n",
       "  'flan',\n",
       "  'guinness',\n",
       "  'lime',\n",
       "  'muffin',\n",
       "  'onion',\n",
       "  'paradise',\n",
       "  'roll',\n",
       "  'salad',\n",
       "  'spinach',\n",
       "  'sweet',\n",
       "  'tako'}]"
      ]
     },
     "execution_count": 372,
     "metadata": {},
     "output_type": "execute_result"
    }
   ],
   "source": [
    "%%time\n",
    "###Ran with extended_list\n",
    "text = \"I love their salads and soups! Yes, Paradise is known for their cookies.  I've actually bought over 20 boxes one time for an individual's birthday plus a big cookie.  The staff is really helpful and always friendly.  Personally,  I'm over the cookies and chips but the Chocolate Chip Banana muffin heated is so good anytime of the day!  I'm not a fan of their French Onion but I usually mix the Chicken and Wild Rice with the Broccoli and Cheese.  A cup is under $5 and it's pretty filling with the roll.  Their newest Spinach salad with bacon, mushrooms, and egg is very tasty -sweet mainly and filling.Lunch time can be crazy busy with business professionals and tourists who cannot decide what to get.  Wi-Fi is free for two hours. BEWARE: On Sundays, they do clean out the drains, talk about smelly!\"\n",
    "\n",
    "matching_cache = {}\n",
    "food_to_biz = {}\n",
    "food_count = {}\n",
    "getDishes3([123],[text],[4])"
   ]
  },
  {
   "cell_type": "code",
   "execution_count": 358,
   "metadata": {
    "scrolled": false
   },
   "outputs": [
    {
     "name": "stderr",
     "output_type": "stream",
     "text": [
      "\r",
      "0it [00:00, ?it/s]"
     ]
    },
    {
     "name": "stdout",
     "output_type": "stream",
     "text": [
      "{'lunch time', 'spinach', 'french onion', 'tasty sweet', 'crazy busy business', 'big cookie', 'time', 'salad bacon', 'chicken wild rice broccoli', 'chocolate chip banana muffin', 'individual birthday plus big cookie', 'staff', 'paradise', 'cup', 'day fan', 'individual birthday'}\n"
     ]
    },
    {
     "name": "stderr",
     "output_type": "stream",
     "text": [
      "1it [00:00,  1.03it/s]"
     ]
    },
    {
     "name": "stdout",
     "output_type": "stream",
     "text": [
      "Wall time: 978 ms\n"
     ]
    },
    {
     "name": "stderr",
     "output_type": "stream",
     "text": [
      "\n"
     ]
    },
    {
     "data": {
      "text/plain": [
       "[{'chicken',\n",
       "  'chocolate',\n",
       "  'cookie',\n",
       "  'lime',\n",
       "  'onion',\n",
       "  'paradise',\n",
       "  'salad',\n",
       "  'spinach',\n",
       "  'sweet'}]"
      ]
     },
     "execution_count": 358,
     "metadata": {},
     "output_type": "execute_result"
    }
   ],
   "source": [
    "%%time\n",
    "###Ran with word_list\n",
    "\n",
    "text = \"I love their salads and soups! Yes, Paradise is known for their cookies.  I've actually bought over 20 boxes one time for an individual's birthday plus a big cookie.  The staff is really helpful and always friendly.  Personally,  I'm over the cookies and chips but the Chocolate Chip Banana muffin heated is so good anytime of the day!  I'm not a fan of their French Onion but I usually mix the Chicken and Wild Rice with the Broccoli and Cheese.  A cup is under $5 and it's pretty filling with the roll.  Their newest Spinach salad with bacon, mushrooms, and egg is very tasty -sweet mainly and filling.Lunch time can be crazy busy with business professionals and tourists who cannot decide what to get.  Wi-Fi is free for two hours. BEWARE: On Sundays, they do clean out the drains, talk about smelly!\"\n",
    "\n",
    "matching_cache = {}\n",
    "food_to_biz = {}\n",
    "food_count = {}\n",
    "getDishes3([123],[text],[4])"
   ]
  },
  {
   "cell_type": "code",
   "execution_count": 356,
   "metadata": {},
   "outputs": [
    {
     "name": "stderr",
     "output_type": "stream",
     "text": [
      "\r",
      "0it [00:00, ?it/s]"
     ]
    },
    {
     "name": "stdout",
     "output_type": "stream",
     "text": [
      "{'roll', 'day', 'egg', 'individual', 'fan', 'talk', 'good anytime', 'business', 'big cookie', 'time', 'filling.Lunch time', 'staff', 'bacon', 'muffin', 'tasty -sweet', 'cup', 'birthday', 'Spinach salad', 'BEWARE'}\n"
     ]
    },
    {
     "name": "stderr",
     "output_type": "stream",
     "text": [
      "1it [00:01,  1.00s/it]"
     ]
    },
    {
     "name": "stdout",
     "output_type": "stream",
     "text": [
      "Wall time: 1 s\n"
     ]
    },
    {
     "name": "stderr",
     "output_type": "stream",
     "text": [
      "\n"
     ]
    },
    {
     "data": {
      "text/plain": [
       "[{'bacon',\n",
       "  'bear',\n",
       "  'cookie',\n",
       "  'daddy',\n",
       "  'egg',\n",
       "  'flan',\n",
       "  'guinness',\n",
       "  'lime',\n",
       "  'muffin',\n",
       "  'roll',\n",
       "  'salad',\n",
       "  'sweet',\n",
       "  'tako'}]"
      ]
     },
     "execution_count": 356,
     "metadata": {},
     "output_type": "execute_result"
    }
   ],
   "source": [
    "%%time\n",
    "###Ran with word_list and cleaned\n",
    "\n",
    "text = \"I love their salads and soups! Yes, Paradise is known for their cookies.  I've actually bought over 20 boxes one time for an individual's birthday plus a big cookie.  The staff is really helpful and always friendly.  Personally,  I'm over the cookies and chips but the Chocolate Chip Banana muffin heated is so good anytime of the day!  I'm not a fan of their French Onion but I usually mix the Chicken and Wild Rice with the Broccoli and Cheese.  A cup is under $5 and it's pretty filling with the roll.  Their newest Spinach salad with bacon, mushrooms, and egg is very tasty -sweet mainly and filling.Lunch time can be crazy busy with business professionals and tourists who cannot decide what to get.  Wi-Fi is free for two hours. BEWARE: On Sundays, they do clean out the drains, talk about smelly!\"\n",
    "\n",
    "matching_cache = {}\n",
    "food_to_biz = {}\n",
    "food_count = {}\n",
    "getDishes3([123],[text],[4])"
   ]
  },
  {
   "cell_type": "code",
   "execution_count": 362,
   "metadata": {},
   "outputs": [
    {
     "name": "stderr",
     "output_type": "stream",
     "text": [
      "\r",
      "0it [00:00, ?it/s]"
     ]
    },
    {
     "name": "stdout",
     "output_type": "stream",
     "text": [
      "{'lunch time', 'spinach', 'french onion', 'tasty sweet', 'crazy busy business', 'big cookie', 'time', 'salad bacon', 'chicken wild rice broccoli', 'chocolate chip banana muffin', 'individual birthday plus big cookie', 'staff', 'paradise', 'cup', 'day fan', 'individual birthday'}\n"
     ]
    },
    {
     "name": "stderr",
     "output_type": "stream",
     "text": [
      "1it [00:35, 35.48s/it]"
     ]
    },
    {
     "name": "stdout",
     "output_type": "stream",
     "text": [
      "Wall time: 35.5 s\n"
     ]
    },
    {
     "name": "stderr",
     "output_type": "stream",
     "text": [
      "\n"
     ]
    },
    {
     "data": {
      "text/plain": [
       "[{'big cookie',\n",
       "  'brunch time',\n",
       "  'chicken broccoli',\n",
       "  'chocolate chip muffin',\n",
       "  'dan dan',\n",
       "  'french onion',\n",
       "  'lime',\n",
       "  'paradise',\n",
       "  'slab bacon',\n",
       "  'spinach',\n",
       "  'taste sweet'}]"
      ]
     },
     "execution_count": 362,
     "metadata": {},
     "output_type": "execute_result"
    }
   ],
   "source": [
    "%%time\n",
    "###Ran with word_list and cleaned, no scorer\n",
    "\n",
    "text = \"I love their salads and soups! Yes, Paradise is known for their cookies.  I've actually bought over 20 boxes one time for an individual's birthday plus a big cookie.  The staff is really helpful and always friendly.  Personally,  I'm over the cookies and chips but the Chocolate Chip Banana muffin heated is so good anytime of the day!  I'm not a fan of their French Onion but I usually mix the Chicken and Wild Rice with the Broccoli and Cheese.  A cup is under $5 and it's pretty filling with the roll.  Their newest Spinach salad with bacon, mushrooms, and egg is very tasty -sweet mainly and filling.Lunch time can be crazy busy with business professionals and tourists who cannot decide what to get.  Wi-Fi is free for two hours. BEWARE: On Sundays, they do clean out the drains, talk about smelly!\"\n",
    "\n",
    "matching_cache = {}\n",
    "food_to_biz = {}\n",
    "food_count = {}\n",
    "getDishes3([123],[text],[4])"
   ]
  },
  {
   "cell_type": "code",
   "execution_count": 279,
   "metadata": {},
   "outputs": [],
   "source": [
    "# ####Older approach - self loop, very expensive\n",
    "\n",
    "# temp = []\n",
    "# for word in tqdm(word_list):\n",
    "# #     sleep(0.01)\n",
    "#     temp.append(process.extract(word, word_list, scorer=fuzz.partial_ratio))\n",
    "    \n",
    "# with open(\"out.csv\",\"w\", newline='') as f:\n",
    "#     wr = csv.writer(f,delimiter=',')\n",
    "#     wr.writerows(temp)"
   ]
  },
  {
   "cell_type": "code",
   "execution_count": null,
   "metadata": {},
   "outputs": [],
   "source": [
    "# food_dict = []\n",
    "# print(len(food_dict))\n",
    "# for i in range(len(temp[:2])):\n",
    "#     matches = temp[i]\n",
    "# #     print(matches)\n",
    "#     matches.sort(key = lambda x:len(x[0]))\n",
    "# #     print(temp[i])\n",
    "#     for match in matches:\n",
    "#         if match[1] >=100:\n",
    "#             food_dict.append(match[0])\n",
    "#             break\n",
    "# print((set(food_dict)))"
   ]
  },
  {
   "cell_type": "code",
   "execution_count": 130,
   "metadata": {},
   "outputs": [
    {
     "name": "stdout",
     "output_type": "stream",
     "text": [
      "0\n",
      "4108\n"
     ]
    }
   ],
   "source": [
    "food_dict = []\n",
    "print(len(food_dict))\n",
    "for matches in temp:\n",
    "    for match in matches[1:]:\n",
    "#         print(match)\n",
    "        if match[1] >=90:\n",
    "            food_dict.append(match[0])\n",
    "\n",
    "food_dict = set(food_dict)\n",
    "print(len(food_dict))"
   ]
  },
  {
   "cell_type": "code",
   "execution_count": 131,
   "metadata": {},
   "outputs": [],
   "source": [
    "food_dict = list(food_dict)\n",
    "# food_dict.sort(key = lambda x: (x,len(x)))\n",
    "\n",
    "df = pd.DataFrame(food_dict)\n",
    "df.to_csv('food_dict_90_percent_matches.csv', index=False)"
   ]
  },
  {
   "cell_type": "code",
   "execution_count": 101,
   "metadata": {},
   "outputs": [
    {
     "name": "stdout",
     "output_type": "stream",
     "text": [
      "[('banana', 90), ('chocolat', 90), ('chocolate', 90), ('banana fritters', 86), ('banana ice cream', 86)]\n"
     ]
    }
   ],
   "source": [
    "test = 'chocolate chip banana muffin'\n",
    "#Standard\n",
    "print(process.extract(test, food_dict))"
   ]
  },
  {
   "cell_type": "code",
   "execution_count": 98,
   "metadata": {},
   "outputs": [
    {
     "name": "stdout",
     "output_type": "stream",
     "text": [
      "[('banana', 100), ('chocolat', 100), ('chocolate', 100), ('muffins', 92), ('bananas', 86)]\n"
     ]
    }
   ],
   "source": [
    "#Best\n",
    "print(process.extract(test, food_dict, scorer=fuzz.partial_ratio))"
   ]
  },
  {
   "cell_type": "code",
   "execution_count": 102,
   "metadata": {},
   "outputs": [
    {
     "name": "stdout",
     "output_type": "stream",
     "text": [
      "('chocolate pudding', 58)\n"
     ]
    }
   ],
   "source": [
    "#Worst\n",
    "print(process.extractOne(test, food_dict, scorer=fuzz.token_sort_ratio))"
   ]
  },
  {
   "cell_type": "code",
   "execution_count": 103,
   "metadata": {},
   "outputs": [
    {
     "name": "stdout",
     "output_type": "stream",
     "text": [
      "('banana', 100)\n"
     ]
    }
   ],
   "source": [
    "#Better\n",
    "print(process.extractOne(test, food_dict, scorer=fuzz.token_set_ratio))"
   ]
  },
  {
   "cell_type": "code",
   "execution_count": 106,
   "metadata": {},
   "outputs": [],
   "source": [
    "###Yelp photo json\n",
    "photo = pd.read_json('photos.json',lines=True)"
   ]
  },
  {
   "cell_type": "code",
   "execution_count": null,
   "metadata": {},
   "outputs": [],
   "source": [
    "photo.drop(['business_id','photo_id'], axis=1, inplace=True)"
   ]
  },
  {
   "cell_type": "code",
   "execution_count": 128,
   "metadata": {},
   "outputs": [],
   "source": [
    "photo = photo[((photo['label'] == 'food') | (photo['label'] == 'drink' )) & (photo['caption'] != '') ]\n",
    "photo.to_csv('photo_captions.csv',index=False)"
   ]
  },
  {
   "cell_type": "code",
   "execution_count": null,
   "metadata": {},
   "outputs": [],
   "source": [
    "###"
   ]
  }
 ],
 "metadata": {
  "kernelspec": {
   "display_name": "Python 3",
   "language": "python",
   "name": "python3"
  },
  "language_info": {
   "codemirror_mode": {
    "name": "ipython",
    "version": 3
   },
   "file_extension": ".py",
   "mimetype": "text/x-python",
   "name": "python",
   "nbconvert_exporter": "python",
   "pygments_lexer": "ipython3",
   "version": "3.6.10"
  }
 },
 "nbformat": 4,
 "nbformat_minor": 4
}
