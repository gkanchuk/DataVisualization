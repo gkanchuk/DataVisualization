{
 "cells": [
  {
   "cell_type": "code",
   "execution_count": 28,
   "metadata": {},
   "outputs": [
    {
     "name": "stdout",
     "output_type": "stream",
     "text": [
      "done\n"
     ]
    }
   ],
   "source": [
    "import pandas as pd\n",
    "import math\n",
    "import os\n",
    "filelist = os.listdir('/Users/paurax/Downloads/dv_proj/output/')\n",
    "for file_name in filelist:\n",
    "\n",
    "    #file_name = 'WI_review.csv'\n",
    "    df = pd.read_csv('output/' +file_name)\n",
    "    unwanted_cols = ['name','neighborhood','address', 'city', 'postal_code','latitude','longitude','stars_x',\n",
    "                     'state', 'review_count','is_open','categories','review_id','user_id','date' ,'useful','funny','cool']\n",
    "    try:\n",
    "        df.drop(unwanted_cols,axis=1,inplace=True)\n",
    "    except:\n",
    "        pass\n",
    "    \n",
    "    \n",
    "    # df = df[:1]\n",
    "    df.drop('Unnamed: 0',axis=1,inplace=True)\n",
    "    review_number = 10000\n",
    "    file_num = math.ceil((df.shape)[0]/review_number)\n",
    "    df = df.iloc[:,1:]\n",
    "    try:\n",
    "        os.mkdir('split/' + file_name[:2])\n",
    "    except:\n",
    "        pass\n",
    "    count = 1\n",
    "    for i in range(0,df.shape[0],review_number):\n",
    "        new_file_name = file_name[:2] + '/' + file_name[:-4] + '_' + str(count) + '.csv'\n",
    "        if count == file_num:\n",
    "            #print(\"Count: \",count, new_file_name,\"\\n\", df[i:df.shape[0]])\n",
    "            new_df = df[i:df.shape[0]]\n",
    "        else:\n",
    "            #print(\"Count: \",count, new_file_name,\"\\n\", df[i:i+review_number])\n",
    "            new_df = df[i:i+review_number]\n",
    "        count += 1\n",
    "        new_df.to_csv('split/' + new_file_name,index=False)\n",
    "print('done')"
   ]
  },
  {
   "cell_type": "code",
   "execution_count": 22,
   "metadata": {},
   "outputs": [],
   "source": [
    "a = [1,2,3]"
   ]
  },
  {
   "cell_type": "code",
   "execution_count": null,
   "metadata": {},
   "outputs": [],
   "source": []
  }
 ],
 "metadata": {
  "kernelspec": {
   "display_name": "Python 3",
   "language": "python",
   "name": "python3"
  },
  "language_info": {
   "codemirror_mode": {
    "name": "ipython",
    "version": 3
   },
   "file_extension": ".py",
   "mimetype": "text/x-python",
   "name": "python",
   "nbconvert_exporter": "python",
   "pygments_lexer": "ipython3",
   "version": "3.8.2"
  }
 },
 "nbformat": 4,
 "nbformat_minor": 4
}
