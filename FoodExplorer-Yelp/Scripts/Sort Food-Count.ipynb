{
 "cells": [
  {
   "cell_type": "code",
   "execution_count": 13,
   "metadata": {},
   "outputs": [
    {
     "name": "stderr",
     "output_type": "stream",
     "text": [
      "100%|██████████| 14/14 [00:01<00:00,  7.04it/s]\n"
     ]
    }
   ],
   "source": [
    "import pandas as pd\n",
    "from tqdm import tqdm\n",
    "\n",
    "states = [\"SC\", \"AK\", \"AZ\", \"CA\", \"CO\", \"IL\", \"IN\", \"NC\", \"NV\", \"NY\", \"OH\", \"PA\", \"VA\", \"WI\"]\n",
    "# states = [\"NV\"]\n",
    "\n",
    "for state in tqdm(states):\n",
    "    file_name = 'Count/' + state + '_food_count.csv'\n",
    "    write_file_name = 'JS/' + state + '.js'\n",
    "#     print(file_name)\n",
    "    var_name = \"dict['\" + state + \"'] = [\"\n",
    "    food_count = pd.read_csv(file_name)\n",
    "    \n",
    "    food_count = food_count.sort_values(by=['Count'], ascending=False)\n",
    "    remove = [\"rich\",\"rename\",\"restaurant\",\"staff\",\"dinner\",\"flavor\",\"nice\",\"serve\",\"last\",\"customer\",\"excellent\",\"house\",\"bad\",\"point\",\"friend\",\"small\",\"room\",\"monkey\",\"fresh\",\"week\",\"second\",\"part\",\"decent\",\"amount\",\"anyone\",\"bite\",\"variety\",\"decor\",\"perfect\",\"patio\",\"deal\",\"chef\",\"right\",\"different\",\"game\",\"cup\",\"option\",\"lady\",\"authentic\",\"style\",\"value\",\"wonderful\",\"mac\",\"road\",\"street\",\"mouth\",\"main\",\"level\",\"dressing\",\"view\",\"date\",\"live\",\"girl\",\"clean\",\"yummy\",\"yum\",\"fantastic\",\"dirty\",\"perfection\",\"southern\",\"favourite\",\"presentation\",\"baby\",\"bottle\",\"basket\",\"red\",\"brown\",\"simple\",\"station\",\"craft\",\"heat\",\"fancy\",\"open\",\"takeout\",\"bottom\",\"head\",\"version\",\"dozen\",\"blue\",\"south\",\"green\",\"low\",\"prime\",\"boat\",\"goodness\",\"plain\",\"event\",\"heart\",\"dark\",\"general\",\"texture\",\"pot\",\"fat\",\"shop\",\"tasting\",\"orange\",\"filling\",\"cuisine\",\"dog\",\"spring\",\"fall\",\"please\",\"unique\",\"TRUE\",\"downtown\",\"crazy\",\"daily\",\"deep\",\"limited\",\"rock\",\"wood\",\"mild\",\"grand\",\"board\",\"incredible\",\"bass\",\"sticky\",\"burnt\",\"twist\",\"skin\",\"key\",\"pan\",\"crunch\",\"soft\",\"delight\",\"giant\",\"sampler\",\"vegetarian\",\"traditional\",\"fatty\",\"coast\",\"popular\",\"pack\",\"flavorful\",\"pad\",\"pound\",\"quarter\",\"rack\",\"english\",\"beach\",\"celebration\",\"benedict\",\"art\",\"chick\",\"tongue\",\"plant\",\"stack\",\"bang\",\"secret\",\"wedding\",\"jerk\",\"sample\",\"ocean\",\"pure\",\"passion\",\"natural\",\"display\",\"joy\",\"split\",\"starter\",\"anniversary\",\"monster\",\"lounge\",\"angry\",\"icing\",\"blend\",\"iron\",\"cracker\",\"bridge\",\"magazine\",\"silver\",\"triple\",\"creation\",\"rainbow\",\"grande\",\"feast\",\"melt\",\"charcoal\",\"foam\",\"powder\",\"baba\",\"leaf\",\"jungle\",\"duo\",\"r\",\"golden\",\"flat\",\"square\",\"ink\",\"purple\",\"stir\",\"reduction\",\"cha\",\"joe\",\"graham\"]\n",
    "\n",
    "    indices = []\n",
    "\n",
    "#     print(type(food_count))\n",
    "    for index, row in food_count.iterrows():\n",
    "        if(row['Dish'] in remove):\n",
    "            indices.append(index)\n",
    "\n",
    "#     print(food_count, indices)\n",
    "    food_count = food_count.drop(indices)\n",
    "#     print(food_count.head())\n",
    "    food_count.to_csv('food_count_sorted_cleaned.csv', index=False)\n",
    "    new_food_count = pd.read_csv('food_count_sorted_cleaned.csv')\n",
    "\n",
    "    sc = []\n",
    "    count = 0\n",
    "    for index, row in new_food_count.iterrows():\n",
    "        item = {}\n",
    "        item['name'] = row['Dish']\n",
    "        item['count'] = row['Count']\n",
    "        item['avg_rating'] = row['Avg_Rating']\n",
    "\n",
    "        count += 1\n",
    "        sc.append(item)\n",
    "\n",
    "        if count > 50:\n",
    "            break\n",
    "            \n",
    "    with open(write_file_name, 'w') as filehandle:\n",
    "        filehandle.write(var_name)\n",
    "        for listitem in sc:\n",
    "            filehandle.write('%s , \\n' % listitem)\n",
    "        filehandle.write(\"];\")"
   ]
  },
  {
   "cell_type": "code",
   "execution_count": 3,
   "metadata": {},
   "outputs": [],
   "source": []
  },
  {
   "cell_type": "code",
   "execution_count": 4,
   "metadata": {},
   "outputs": [],
   "source": []
  },
  {
   "cell_type": "code",
   "execution_count": 6,
   "metadata": {},
   "outputs": [
    {
     "name": "stdout",
     "output_type": "stream",
     "text": [
      "<class 'pandas.core.frame.DataFrame'>\n",
      "            Dish  Count  Avg_Rating\n",
      "0           beer   7107    3.782187\n",
      "1        chicken   6849    3.600818\n",
      "2         cheese   6791    3.744662\n",
      "3          sauce   5568    3.595007\n",
      "4          salad   4691    3.591345\n",
      "..           ...    ...         ...\n",
      "901   portuguese      1    5.000000\n",
      "899       salade      1    5.000000\n",
      "898  langoustine      1    5.000000\n",
      "897     sorbetto      1    5.000000\n",
      "913     handroll      1    1.000000\n",
      "\n",
      "[914 rows x 3 columns] []\n"
     ]
    }
   ],
   "source": []
  },
  {
   "cell_type": "code",
   "execution_count": 7,
   "metadata": {},
   "outputs": [],
   "source": []
  },
  {
   "cell_type": "code",
   "execution_count": 8,
   "metadata": {},
   "outputs": [
    {
     "data": {
      "text/html": [
       "<div>\n",
       "<style scoped>\n",
       "    .dataframe tbody tr th:only-of-type {\n",
       "        vertical-align: middle;\n",
       "    }\n",
       "\n",
       "    .dataframe tbody tr th {\n",
       "        vertical-align: top;\n",
       "    }\n",
       "\n",
       "    .dataframe thead th {\n",
       "        text-align: right;\n",
       "    }\n",
       "</style>\n",
       "<table border=\"1\" class=\"dataframe\">\n",
       "  <thead>\n",
       "    <tr style=\"text-align: right;\">\n",
       "      <th></th>\n",
       "      <th>Dish</th>\n",
       "      <th>Count</th>\n",
       "      <th>Avg_Rating</th>\n",
       "    </tr>\n",
       "  </thead>\n",
       "  <tbody>\n",
       "    <tr>\n",
       "      <td>0</td>\n",
       "      <td>beer</td>\n",
       "      <td>7107</td>\n",
       "      <td>3.782187</td>\n",
       "    </tr>\n",
       "    <tr>\n",
       "      <td>1</td>\n",
       "      <td>chicken</td>\n",
       "      <td>6849</td>\n",
       "      <td>3.600818</td>\n",
       "    </tr>\n",
       "    <tr>\n",
       "      <td>2</td>\n",
       "      <td>cheese</td>\n",
       "      <td>6791</td>\n",
       "      <td>3.744662</td>\n",
       "    </tr>\n",
       "    <tr>\n",
       "      <td>3</td>\n",
       "      <td>sauce</td>\n",
       "      <td>5568</td>\n",
       "      <td>3.595007</td>\n",
       "    </tr>\n",
       "    <tr>\n",
       "      <td>4</td>\n",
       "      <td>salad</td>\n",
       "      <td>4691</td>\n",
       "      <td>3.591345</td>\n",
       "    </tr>\n",
       "  </tbody>\n",
       "</table>\n",
       "</div>"
      ],
      "text/plain": [
       "      Dish  Count  Avg_Rating\n",
       "0     beer   7107    3.782187\n",
       "1  chicken   6849    3.600818\n",
       "2   cheese   6791    3.744662\n",
       "3    sauce   5568    3.595007\n",
       "4    salad   4691    3.591345"
      ]
     },
     "execution_count": 8,
     "metadata": {},
     "output_type": "execute_result"
    }
   ],
   "source": [
    "food_count.head()"
   ]
  },
  {
   "cell_type": "code",
   "execution_count": 9,
   "metadata": {},
   "outputs": [],
   "source": []
  },
  {
   "cell_type": "code",
   "execution_count": 10,
   "metadata": {},
   "outputs": [],
   "source": []
  },
  {
   "cell_type": "code",
   "execution_count": 13,
   "metadata": {},
   "outputs": [],
   "source": []
  },
  {
   "cell_type": "code",
   "execution_count": 15,
   "metadata": {},
   "outputs": [],
   "source": []
  },
  {
   "cell_type": "code",
   "execution_count": null,
   "metadata": {},
   "outputs": [],
   "source": []
  }
 ],
 "metadata": {
  "kernelspec": {
   "display_name": "Python 3",
   "language": "python",
   "name": "python3"
  },
  "language_info": {
   "codemirror_mode": {
    "name": "ipython",
    "version": 3
   },
   "file_extension": ".py",
   "mimetype": "text/x-python",
   "name": "python",
   "nbconvert_exporter": "python",
   "pygments_lexer": "ipython3",
   "version": "3.7.4"
  }
 },
 "nbformat": 4,
 "nbformat_minor": 2
}
