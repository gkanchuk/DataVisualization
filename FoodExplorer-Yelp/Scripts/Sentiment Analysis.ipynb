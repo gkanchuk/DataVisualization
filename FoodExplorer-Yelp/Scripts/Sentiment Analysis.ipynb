{
 "cells": [
  {
   "cell_type": "code",
   "execution_count": 1,
   "metadata": {},
   "outputs": [],
   "source": [
    "import pandas as pd\n",
    "from textblob import TextBlob\n",
    "import nltk \n",
    "from nltk.sentiment.vader import SentimentIntensityAnalyzer\n",
    "import os"
   ]
  },
  {
   "cell_type": "code",
   "execution_count": 26,
   "metadata": {},
   "outputs": [],
   "source": [
    "def vader(text):\n",
    "    split_para = nltk.tokenize.sent_tokenize(text)\n",
    "    compound = 0\n",
    "    for i in range(len(split_para)):\n",
    "        polarity = analyzer.polarity_scores(split_para[i])\n",
    "        compound += polarity['compound']\n",
    "    return compound/len(split_para)"
   ]
  },
  {
   "cell_type": "code",
   "execution_count": 15,
   "metadata": {},
   "outputs": [],
   "source": [
    "def text_blob(text):\n",
    "    split_para = nltk.tokenize.sent_tokenize(text)\n",
    "    comp = 0\n",
    "    for i in range(len(split_para)):\n",
    "        blob = TextBlob(split_para[i])\n",
    "        comp += blob.sentiment.polarity\n",
    "    return comp/len(split_para)"
   ]
  },
  {
   "cell_type": "code",
   "execution_count": 32,
   "metadata": {},
   "outputs": [],
   "source": [
    "def get_sentiment(data):\n",
    "    sentiment_list = []\n",
    "    for __, row in tqdm(data.iterrows()):\n",
    "        vd = vader(row['text'])\n",
    "        tb = text_blob(row['text'])\n",
    "        if abs(vd - tb) >= 0.15:\n",
    "            if tb < 0.9:\n",
    "                sentiment_list.append(tb)\n",
    "            else:\n",
    "                sentiment_list.append(vd)\n",
    "        else:\n",
    "            sentiment_list.append(vd)\n",
    "    return sentiment_list"
   ]
  },
  {
   "cell_type": "code",
   "execution_count": 33,
   "metadata": {},
   "outputs": [],
   "source": [
    "def scale_output(senti_list):\n",
    "    for i in range(len(senti_list)):\n",
    "        if senti_list[i] < -0.6:\n",
    "            senti_list[i] = 1\n",
    "        elif senti_list[i] >= -0.6 and senti_list[i] < -0.2:\n",
    "            senti_list[i] = 2\n",
    "        elif senti_list[i] >= -0.2 and senti_list[i] < 0.2:\n",
    "            senti_list[i] = 3\n",
    "        elif senti_list[i] >= 0.2 and senti_list[i] < 0.6:\n",
    "            senti_list[i] = 4\n",
    "        else:\n",
    "            senti_list[i] = 5\n",
    "    return senti_list"
   ]
  },
  {
   "cell_type": "code",
   "execution_count": 31,
   "metadata": {},
   "outputs": [],
   "source": [
    "from tqdm import tqdm"
   ]
  },
  {
   "cell_type": "code",
   "execution_count": 35,
   "metadata": {},
   "outputs": [
    {
     "name": "stderr",
     "output_type": "stream",
     "text": [
      "1041803it [34:32, 502.70it/s] \n"
     ]
    }
   ],
   "source": [
    "analyzer = SentimentIntensityAnalyzer()\n",
    "filelist = os.listdir('/Users/paurax/Downloads/dv_proj/review/')\n",
    "for file in filelist:\n",
    "    data = pd.read_csv('/Users/paurax/Downloads/dv_proj/review/' + file)\n",
    "    sentiment_list = get_sentiment(data)\n",
    "    sentiment_list = scale_output(sentiment_list)\n",
    "    data['sentiment'] = sentiment_list\n",
    "    dest_path = '/Users/paurax/Downloads/dv_proj/output/' + file \n",
    "    data.to_csv(dest_path)"
   ]
  },
  {
   "cell_type": "code",
   "execution_count": null,
   "metadata": {},
   "outputs": [],
   "source": []
  }
 ],
 "metadata": {
  "kernelspec": {
   "display_name": "Python 3",
   "language": "python",
   "name": "python3"
  },
  "language_info": {
   "codemirror_mode": {
    "name": "ipython",
    "version": 3
   },
   "file_extension": ".py",
   "mimetype": "text/x-python",
   "name": "python",
   "nbconvert_exporter": "python",
   "pygments_lexer": "ipython3",
   "version": "3.8.2"
  }
 },
 "nbformat": 4,
 "nbformat_minor": 4
}
